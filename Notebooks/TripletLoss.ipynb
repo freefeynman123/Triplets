{
 "cells": [
  {
   "cell_type": "markdown",
   "metadata": {
    "colab_type": "text",
    "id": "GbfihYmQEE3p"
   },
   "source": [
    "## Classification and dimensionality reduction"
   ]
  },
  {
   "cell_type": "code",
   "execution_count": 1,
   "metadata": {},
   "outputs": [],
   "source": [
    "LOCAL = True"
   ]
  },
  {
   "cell_type": "code",
   "execution_count": 2,
   "metadata": {
    "colab": {},
    "colab_type": "code",
    "id": "lAYsM42ZEE3r"
   },
   "outputs": [],
   "source": [
    "%load_ext autoreload\n",
    "%autoreload 2\n",
    "%load_ext skip_cell"
   ]
  },
  {
   "cell_type": "code",
   "execution_count": 3,
   "metadata": {
    "colab": {
     "base_uri": "https://localhost:8080/",
     "height": 54
    },
    "colab_type": "code",
    "id": "bUBKCzFOEIuP",
    "outputId": "e43cc31a-4b4f-4c88-b711-baa2f7955e0f"
   },
   "outputs": [],
   "source": [
    "%%skip $LOCAL\n",
    "#Mounting the drive\n",
    "\n",
    "import zipfile\n",
    "from google.colab import drive\n",
    "\n",
    "drive.mount('/content/drive/')"
   ]
  },
  {
   "cell_type": "code",
   "execution_count": 4,
   "metadata": {
    "colab": {},
    "colab_type": "code",
    "id": "dMfXjni6EVvw"
   },
   "outputs": [],
   "source": [
    "%%skip $LOCAL\n",
    "\n",
    "!cp -a \"/content/drive/My Drive/triplets/\" ."
   ]
  },
  {
   "cell_type": "markdown",
   "metadata": {
    "colab_type": "text",
    "id": "CrXtpk6IBmaN"
   },
   "source": [
    "Setting up tensorboard for PyTorch in Colab"
   ]
  },
  {
   "cell_type": "code",
   "execution_count": 5,
   "metadata": {
    "colab": {},
    "colab_type": "code",
    "id": "BVIxPcgPBcLG"
   },
   "outputs": [],
   "source": [
    "%%skip $LOCAL\n",
    "\n",
    "!pip install -q tf-nightly-2.0-preview\n",
    "%load_ext tensorboard\n",
    "import os\n",
    "logs_base_dir = \"runs\"\n",
    "os.makedirs(logs_base_dir, exist_ok=True)"
   ]
  },
  {
   "cell_type": "markdown",
   "metadata": {
    "colab_type": "text",
    "id": "itWR2UmZfKh4"
   },
   "source": [
    "# Imports"
   ]
  },
  {
   "cell_type": "code",
   "execution_count": 6,
   "metadata": {
    "colab": {},
    "colab_type": "code",
    "id": "-PsFY4nOe8wH"
   },
   "outputs": [],
   "source": [
    "import copy\n",
    "import random\n",
    "import time\n",
    "import matplotlib.colors as mcolors\n",
    "import matplotlib.pyplot as plt\n",
    "import numpy as np\n",
    "from sklearn.manifold import TSNE\n",
    "from sklearn.metrics import accuracy_score, make_scorer\n",
    "from sklearn.model_selection import GridSearchCV\n",
    "from sklearn.neighbors import KNeighborsClassifier\n",
    "import torch\n",
    "from torch import optim\n",
    "from torch import nn\n",
    "from torch.utils.data import random_split\n",
    "# from torch.utils.tensorboard import SummaryWriter\n",
    "from torchvision import transforms\n",
    "from torchvision.datasets import SVHN\n",
    "from torchvision.models import resnet18\n",
    "from typing import Union\n",
    "from PIL import Image"
   ]
  },
  {
   "cell_type": "code",
   "execution_count": 7,
   "metadata": {
    "colab": {},
    "colab_type": "code",
    "id": "u9XsQmkEe42o"
   },
   "outputs": [
    {
     "ename": "ModuleNotFoundError",
     "evalue": "No module named 'triplets'",
     "output_type": "error",
     "traceback": [
      "\u001b[0;31m---------------------------------------------------------------------------\u001b[0m",
      "\u001b[0;31mModuleNotFoundError\u001b[0m                       Traceback (most recent call last)",
      "\u001b[0;32m<ipython-input-7-4ab0fd67e482>\u001b[0m in \u001b[0;36m<module>\u001b[0;34m\u001b[0m\n\u001b[0;32m----> 1\u001b[0;31m \u001b[0;32mfrom\u001b[0m \u001b[0mtriplets\u001b[0m\u001b[0;34m.\u001b[0m\u001b[0mdatasets\u001b[0m \u001b[0;32mimport\u001b[0m \u001b[0mTripletSVHN\u001b[0m\u001b[0;34m\u001b[0m\u001b[0;34m\u001b[0m\u001b[0m\n\u001b[0m\u001b[1;32m      2\u001b[0m \u001b[0;32mfrom\u001b[0m \u001b[0mtriplets\u001b[0m\u001b[0;34m.\u001b[0m\u001b[0mlosses\u001b[0m \u001b[0;32mimport\u001b[0m \u001b[0mTripletLoss\u001b[0m\u001b[0;34m,\u001b[0m \u001b[0mTripletSoftLoss\u001b[0m\u001b[0;34m\u001b[0m\u001b[0;34m\u001b[0m\u001b[0m\n\u001b[1;32m      3\u001b[0m \u001b[0;32mfrom\u001b[0m \u001b[0mtriplets\u001b[0m\u001b[0;34m.\u001b[0m\u001b[0mmetrics\u001b[0m \u001b[0;32mimport\u001b[0m \u001b[0mmean_average_precision\u001b[0m\u001b[0;34m\u001b[0m\u001b[0;34m\u001b[0m\u001b[0m\n\u001b[1;32m      4\u001b[0m \u001b[0;32mfrom\u001b[0m \u001b[0mtriplets\u001b[0m\u001b[0;34m.\u001b[0m\u001b[0mnets\u001b[0m \u001b[0;32mimport\u001b[0m \u001b[0mTripletNet\u001b[0m\u001b[0;34m\u001b[0m\u001b[0;34m\u001b[0m\u001b[0m\n\u001b[1;32m      5\u001b[0m \u001b[0;32mfrom\u001b[0m \u001b[0mtriplets\u001b[0m\u001b[0;34m.\u001b[0m\u001b[0mtrain\u001b[0m \u001b[0;32mimport\u001b[0m \u001b[0mtrain\u001b[0m\u001b[0;34m\u001b[0m\u001b[0;34m\u001b[0m\u001b[0m\n",
      "\u001b[0;31mModuleNotFoundError\u001b[0m: No module named 'triplets'"
     ]
    }
   ],
   "source": [
    "from triplets.datasets import TripletSVHN\n",
    "from triplets.losses import TripletLoss, TripletSoftLoss\n",
    "from triplets.metrics import mean_average_precision\n",
    "from triplets.nets import TripletNet\n",
    "from triplets.train import train\n",
    "from triplets.transformers import FeatureExtractor"
   ]
  },
  {
   "cell_type": "code",
   "execution_count": null,
   "metadata": {
    "colab": {},
    "colab_type": "code",
    "id": "mWFBcpDTMgH0"
   },
   "outputs": [],
   "source": [
    "n_features = 512\n",
    "n_classes = 10\n",
    "device = torch.device(\"cuda:0\" if torch.cuda.is_available() else \"cpu\")\n",
    "SEED = 100\n",
    "validation_split = 0.2\n",
    "shuffle_dataset = True"
   ]
  },
  {
   "cell_type": "code",
   "execution_count": null,
   "metadata": {
    "colab": {},
    "colab_type": "code",
    "id": "YXzgWgceewZt"
   },
   "outputs": [],
   "source": [
    "torch.manual_seed(SEED)\n",
    "torch.cuda.manual_seed(SEED)\n",
    "np.random.seed(SEED)\n",
    "random.seed(SEED)"
   ]
  },
  {
   "cell_type": "code",
   "execution_count": null,
   "metadata": {
    "colab": {
     "base_uri": "https://localhost:8080/",
     "height": 51
    },
    "colab_type": "code",
    "id": "uqoPphSxeVAW",
    "outputId": "9145da26-12f6-4344-c2e1-81c8f8d819a4"
   },
   "outputs": [],
   "source": [
    "dataset = SVHN(root = 'data/', download=True, split='train')\n",
    "train_size = int(0.8*len(dataset))\n",
    "valid_size = len(dataset) - train_size\n",
    "dataset_train, dataset_valid = random_split(dataset, [train_size, valid_size])\n",
    "dataset_test = SVHN(root = 'data/', download=True, split='test');"
   ]
  },
  {
   "cell_type": "markdown",
   "metadata": {
    "colab_type": "text",
    "id": "tmvv8Y1kJWRs"
   },
   "source": [
    "# Training model with triplet loss"
   ]
  },
  {
   "cell_type": "code",
   "execution_count": null,
   "metadata": {
    "colab": {},
    "colab_type": "code",
    "id": "mMK3PXazxTeD"
   },
   "outputs": [],
   "source": [
    "batch_size = 32\n",
    "num_triplets = 1\n",
    "epochs = 20"
   ]
  },
  {
   "cell_type": "code",
   "execution_count": null,
   "metadata": {
    "colab": {},
    "colab_type": "code",
    "id": "-iRwgCIpMofC"
   },
   "outputs": [],
   "source": [
    "model = resnet18(pretrained=True)\n",
    "model.eval();"
   ]
  },
  {
   "cell_type": "markdown",
   "metadata": {
    "colab_type": "text",
    "id": "6B_d4jRlMw3a"
   },
   "source": [
    "Defining extractor using custom class to extract features from last cnn pretrained layer."
   ]
  },
  {
   "cell_type": "code",
   "execution_count": null,
   "metadata": {
    "colab": {},
    "colab_type": "code",
    "id": "qguF2NEzM0JR"
   },
   "outputs": [],
   "source": [
    "extractor = FeatureExtractor(model=model, n_remove_layers=1, n_features=n_features, device=device)\n",
    "extracted_resnet = extractor.prepare_model()"
   ]
  },
  {
   "cell_type": "markdown",
   "metadata": {},
   "source": [
    "Freeze all the layers besides two last ones (pooling and two convolutional blocks)"
   ]
  },
  {
   "cell_type": "code",
   "execution_count": null,
   "metadata": {},
   "outputs": [],
   "source": [
    "for idx, child in enumerate(extracted_resnet.children()):\n",
    "    if idx < 7:\n",
    "        for param in child.parameters():\n",
    "            param.requires_grad = False"
   ]
  },
  {
   "cell_type": "code",
   "execution_count": null,
   "metadata": {
    "colab": {},
    "colab_type": "code",
    "id": "P7IH2ElAwxFu"
   },
   "outputs": [],
   "source": [
    "preprocess = transforms.Compose([            \n",
    " transforms.Resize(256),                    \n",
    " transforms.CenterCrop(224),                \n",
    " transforms.ToTensor(),                     \n",
    " transforms.Normalize(                      \n",
    " mean=[0.485, 0.456, 0.406],                \n",
    " std=[0.229, 0.224, 0.225]                  \n",
    " )])"
   ]
  },
  {
   "cell_type": "markdown",
   "metadata": {
    "colab_type": "text",
    "id": "HCJB5dl0xPtB"
   },
   "source": [
    "Defining triplet datasets and dataloaders"
   ]
  },
  {
   "cell_type": "code",
   "execution_count": null,
   "metadata": {
    "colab": {},
    "colab_type": "code",
    "id": "0QSFZ0PFxNQF"
   },
   "outputs": [],
   "source": [
    "triplet_train= TripletSVHN(dataset, dataset_train.indices, dataset_valid.indices,\n",
    "                            preprocess, 'train', SEED)\n",
    "triplet_valid = TripletSVHN(dataset, dataset_train.indices, dataset_valid.indices,\n",
    "                            preprocess, 'val', SEED)"
   ]
  },
  {
   "cell_type": "code",
   "execution_count": null,
   "metadata": {
    "colab": {},
    "colab_type": "code",
    "id": "N-7BUNKDxRDI"
   },
   "outputs": [],
   "source": [
    "dataloader_train = torch.utils.data.DataLoader(triplet_train, batch_size=batch_size)\n",
    "dataloader_valid = torch.utils.data.DataLoader(triplet_valid, batch_size=batch_size)\n",
    "dataloaders = {'train': dataloader_train, 'val': dataloader_valid}"
   ]
  },
  {
   "cell_type": "code",
   "execution_count": null,
   "metadata": {
    "colab": {},
    "colab_type": "code",
    "id": "LUO5nexkKJiN"
   },
   "outputs": [],
   "source": [
    "model = TripletNet(extracted_resnet)\n",
    "criterion = TripletSoftLoss()\n",
    "# Observe that all parameters are being optimized\n",
    "optimizer = optim.Adam(model.parameters(), lr=0.001)\n",
    "# Decay LR by a factor of 0.1 every 7 epochs\n",
    "scheduler = optim.lr_scheduler.StepLR(optimizer, step_size=7, gamma=0.1)"
   ]
  },
  {
   "cell_type": "code",
   "execution_count": null,
   "metadata": {},
   "outputs": [],
   "source": [
    "test_sample = next(iter(dataloader_train))"
   ]
  },
  {
   "cell_type": "code",
   "execution_count": null,
   "metadata": {},
   "outputs": [],
   "source": [
    "test_out = model(*test_sample[0])"
   ]
  },
  {
   "cell_type": "code",
   "execution_count": null,
   "metadata": {},
   "outputs": [],
   "source": [
    "criterion(*test_out)"
   ]
  },
  {
   "cell_type": "code",
   "execution_count": null,
   "metadata": {
    "colab": {},
    "colab_type": "code",
    "id": "iMxMpHlHViKc"
   },
   "outputs": [],
   "source": [
    "%%skip $LOCAL\n",
    "\n",
    "writer = SummaryWriter()"
   ]
  },
  {
   "cell_type": "code",
   "execution_count": null,
   "metadata": {
    "colab": {
     "base_uri": "https://localhost:8080/",
     "height": 1000
    },
    "colab_type": "code",
    "id": "JZb-S7sBhXuO",
    "outputId": "4828731f-4a69-4a32-ed66-74b1f6df6e4b"
   },
   "outputs": [],
   "source": [
    "train(model, dataloaders, criterion, optimizer, scheduler, epochs, device)"
   ]
  },
  {
   "cell_type": "markdown",
   "metadata": {
    "colab_type": "text",
    "id": "aqhvM7ucgSOI"
   },
   "source": [
    "#TODO : Probably combine notebooks (using knn on learned embeddings with margin hyperparameter loss optimisation) - apply negative mining techniques, fix TripletDataset"
   ]
  }
 ],
 "metadata": {
  "accelerator": "GPU",
  "colab": {
   "collapsed_sections": [],
   "name": "TripletLoss.ipynb",
   "provenance": [],
   "toc_visible": true
  },
  "kernelspec": {
   "display_name": "Python [conda env:triplets] *",
   "language": "python",
   "name": "conda-env-triplets-py"
  },
  "language_info": {
   "codemirror_mode": {
    "name": "ipython",
    "version": 3
   },
   "file_extension": ".py",
   "mimetype": "text/x-python",
   "name": "python",
   "nbconvert_exporter": "python",
   "pygments_lexer": "ipython3",
   "version": "3.7.4"
  }
 },
 "nbformat": 4,
 "nbformat_minor": 1
}
